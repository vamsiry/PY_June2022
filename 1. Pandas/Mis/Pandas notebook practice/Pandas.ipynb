{
 "cells": [
  {
   "cell_type": "code",
   "execution_count": 0,
   "metadata": {
    "colab": {},
    "colab_type": "code",
    "id": "MwGkmZ3GnxsF"
   },
   "outputs": [],
   "source": [
    "import pandas as pd\n",
    "df = pd.read_csv(\"/Users/vamsi/Desktop/Vamsi/Data/Auto_FF/vamsi_temp_21stseptember.csv\")\n",
    "df.head\n",
    "import random\n",
    "random.randrange(1,19)\n",
    "random.randint(1,10)\n",
    "random.choice(5)\n"
   ]
  },
  {
   "cell_type": "code",
   "execution_count": 0,
   "metadata": {
    "colab": {},
    "colab_type": "code",
    "id": "DHS9aQFTnxuS"
   },
   "outputs": [],
   "source": [
    "#conda install --name TensorFlow  scikit-learn\n",
    "# Sagar:~ vamsi$ pip list \"to view the list of packages installed on that enveronment\n",
    "\n",
    "#Sagar:~ vamsi$ conda list -n root\n",
    "# packages in environment at /Users/vamsi/anaconda:\n",
    "\n",
    "#Sagar:~ vamsi$ conda list\n",
    "# packages in environment at /Users/vamsi/anaconda:\n"
   ]
  },
  {
   "cell_type": "code",
   "execution_count": 0,
   "metadata": {
    "colab": {},
    "colab_type": "code",
    "id": "mdVL_b1unxvP"
   },
   "outputs": [],
   "source": [
    "import pandas as pd\n",
    "import numpy as np"
   ]
  },
  {
   "cell_type": "code",
   "execution_count": 0,
   "metadata": {
    "colab": {},
    "colab_type": "code",
    "id": "Osb-U1P9nxvz"
   },
   "outputs": [],
   "source": [
    "# Importing Data\n",
    "# pd.read_csv(filename)\tFrom a CSV file\n",
    "# pd.read_table(filename)\tFrom a delimited text file (like TSV)\n",
    "# pd.read_excel(filename)\tFrom an Excel file\n",
    "# pd.read_sql(query, connection_object)\tRead from a SQL table/database\n",
    "# pd.read_json(json_string)\tRead from a JSON formatted string, URL or file.\n",
    "# pd.read_html(url)\tParses an html URL, string or file and extracts tables to a list of dataframes\n",
    "# pd.read_clipboard()\tTakes the contents of your clipboard and passes it to read_table()\n",
    "# pd.DataFrame(dict)\tFrom a dict, keys for columns names, values for data as lists"
   ]
  },
  {
   "cell_type": "code",
   "execution_count": 0,
   "metadata": {
    "colab": {},
    "colab_type": "code",
    "id": "51StyPEvnxwT"
   },
   "outputs": [],
   "source": [
    "# Exporting Data\n",
    "# df.to_csv(filename)\tWrite to a CSV file\n",
    "# df.to_excel(filename)\tWrite to an Excel file\n",
    "# df.to_sql(table_name, connection_object)\tWrite to a SQL table\n",
    "# df.to_json(filename)\tWrite to a file in JSON format"
   ]
  },
  {
   "cell_type": "code",
   "execution_count": 0,
   "metadata": {
    "colab": {},
    "colab_type": "code",
    "id": "nuEiGhxPnxxL",
    "outputId": "3825d359-64ec-4588-afa1-12fe4cf60357"
   },
   "outputs": [
    {
     "data": {
      "text/html": [
       "<div>\n",
       "<style>\n",
       "    .dataframe thead tr:only-child th {\n",
       "        text-align: right;\n",
       "    }\n",
       "\n",
       "    .dataframe thead th {\n",
       "        text-align: left;\n",
       "    }\n",
       "\n",
       "    .dataframe tbody tr th {\n",
       "        vertical-align: top;\n",
       "    }\n",
       "</style>\n",
       "<table border=\"1\" class=\"dataframe\">\n",
       "  <thead>\n",
       "    <tr style=\"text-align: right;\">\n",
       "      <th></th>\n",
       "      <th>0</th>\n",
       "      <th>1</th>\n",
       "      <th>2</th>\n",
       "      <th>3</th>\n",
       "      <th>4</th>\n",
       "    </tr>\n",
       "  </thead>\n",
       "  <tbody>\n",
       "    <tr>\n",
       "      <th>0</th>\n",
       "      <td>0.135148</td>\n",
       "      <td>0.412060</td>\n",
       "      <td>0.659656</td>\n",
       "      <td>0.108479</td>\n",
       "      <td>0.652934</td>\n",
       "    </tr>\n",
       "    <tr>\n",
       "      <th>1</th>\n",
       "      <td>0.193317</td>\n",
       "      <td>0.733702</td>\n",
       "      <td>0.416998</td>\n",
       "      <td>0.434947</td>\n",
       "      <td>0.242357</td>\n",
       "    </tr>\n",
       "    <tr>\n",
       "      <th>2</th>\n",
       "      <td>0.661818</td>\n",
       "      <td>0.887908</td>\n",
       "      <td>0.001198</td>\n",
       "      <td>0.048292</td>\n",
       "      <td>0.848266</td>\n",
       "    </tr>\n",
       "    <tr>\n",
       "      <th>3</th>\n",
       "      <td>0.162788</td>\n",
       "      <td>0.668445</td>\n",
       "      <td>0.180693</td>\n",
       "      <td>0.340522</td>\n",
       "      <td>0.166575</td>\n",
       "    </tr>\n",
       "    <tr>\n",
       "      <th>4</th>\n",
       "      <td>0.480872</td>\n",
       "      <td>0.780350</td>\n",
       "      <td>0.629506</td>\n",
       "      <td>0.145497</td>\n",
       "      <td>0.361652</td>\n",
       "    </tr>\n",
       "    <tr>\n",
       "      <th>5</th>\n",
       "      <td>0.740717</td>\n",
       "      <td>0.694836</td>\n",
       "      <td>0.350969</td>\n",
       "      <td>0.290522</td>\n",
       "      <td>0.614535</td>\n",
       "    </tr>\n",
       "    <tr>\n",
       "      <th>6</th>\n",
       "      <td>0.540679</td>\n",
       "      <td>0.681127</td>\n",
       "      <td>0.953376</td>\n",
       "      <td>0.658461</td>\n",
       "      <td>0.840900</td>\n",
       "    </tr>\n",
       "    <tr>\n",
       "      <th>7</th>\n",
       "      <td>0.849410</td>\n",
       "      <td>0.614750</td>\n",
       "      <td>0.175570</td>\n",
       "      <td>0.053090</td>\n",
       "      <td>0.686159</td>\n",
       "    </tr>\n",
       "    <tr>\n",
       "      <th>8</th>\n",
       "      <td>0.251452</td>\n",
       "      <td>0.074090</td>\n",
       "      <td>0.124589</td>\n",
       "      <td>0.468785</td>\n",
       "      <td>0.625173</td>\n",
       "    </tr>\n",
       "    <tr>\n",
       "      <th>9</th>\n",
       "      <td>0.217068</td>\n",
       "      <td>0.448147</td>\n",
       "      <td>0.261337</td>\n",
       "      <td>0.816836</td>\n",
       "      <td>0.717050</td>\n",
       "    </tr>\n",
       "    <tr>\n",
       "      <th>10</th>\n",
       "      <td>0.513657</td>\n",
       "      <td>0.856346</td>\n",
       "      <td>0.586980</td>\n",
       "      <td>0.317200</td>\n",
       "      <td>0.652585</td>\n",
       "    </tr>\n",
       "    <tr>\n",
       "      <th>11</th>\n",
       "      <td>0.927432</td>\n",
       "      <td>0.184947</td>\n",
       "      <td>0.093068</td>\n",
       "      <td>0.140016</td>\n",
       "      <td>0.867334</td>\n",
       "    </tr>\n",
       "    <tr>\n",
       "      <th>12</th>\n",
       "      <td>0.142011</td>\n",
       "      <td>0.612859</td>\n",
       "      <td>0.300056</td>\n",
       "      <td>0.520717</td>\n",
       "      <td>0.429372</td>\n",
       "    </tr>\n",
       "    <tr>\n",
       "      <th>13</th>\n",
       "      <td>0.844121</td>\n",
       "      <td>0.824084</td>\n",
       "      <td>0.248138</td>\n",
       "      <td>0.796163</td>\n",
       "      <td>0.234104</td>\n",
       "    </tr>\n",
       "    <tr>\n",
       "      <th>14</th>\n",
       "      <td>0.654401</td>\n",
       "      <td>0.788771</td>\n",
       "      <td>0.961824</td>\n",
       "      <td>0.489300</td>\n",
       "      <td>0.043958</td>\n",
       "    </tr>\n",
       "    <tr>\n",
       "      <th>15</th>\n",
       "      <td>0.870861</td>\n",
       "      <td>0.019651</td>\n",
       "      <td>0.696231</td>\n",
       "      <td>0.531542</td>\n",
       "      <td>0.217679</td>\n",
       "    </tr>\n",
       "    <tr>\n",
       "      <th>16</th>\n",
       "      <td>0.405521</td>\n",
       "      <td>0.658597</td>\n",
       "      <td>0.268423</td>\n",
       "      <td>0.867861</td>\n",
       "      <td>0.354019</td>\n",
       "    </tr>\n",
       "    <tr>\n",
       "      <th>17</th>\n",
       "      <td>0.760914</td>\n",
       "      <td>0.471003</td>\n",
       "      <td>0.445643</td>\n",
       "      <td>0.029507</td>\n",
       "      <td>0.983251</td>\n",
       "    </tr>\n",
       "    <tr>\n",
       "      <th>18</th>\n",
       "      <td>0.984552</td>\n",
       "      <td>0.752644</td>\n",
       "      <td>0.000506</td>\n",
       "      <td>0.584284</td>\n",
       "      <td>0.062437</td>\n",
       "    </tr>\n",
       "    <tr>\n",
       "      <th>19</th>\n",
       "      <td>0.723287</td>\n",
       "      <td>0.786570</td>\n",
       "      <td>0.370922</td>\n",
       "      <td>0.157771</td>\n",
       "      <td>0.983954</td>\n",
       "    </tr>\n",
       "  </tbody>\n",
       "</table>\n",
       "</div>"
      ],
      "text/plain": [
       "           0         1         2         3         4\n",
       "0   0.135148  0.412060  0.659656  0.108479  0.652934\n",
       "1   0.193317  0.733702  0.416998  0.434947  0.242357\n",
       "2   0.661818  0.887908  0.001198  0.048292  0.848266\n",
       "3   0.162788  0.668445  0.180693  0.340522  0.166575\n",
       "4   0.480872  0.780350  0.629506  0.145497  0.361652\n",
       "5   0.740717  0.694836  0.350969  0.290522  0.614535\n",
       "6   0.540679  0.681127  0.953376  0.658461  0.840900\n",
       "7   0.849410  0.614750  0.175570  0.053090  0.686159\n",
       "8   0.251452  0.074090  0.124589  0.468785  0.625173\n",
       "9   0.217068  0.448147  0.261337  0.816836  0.717050\n",
       "10  0.513657  0.856346  0.586980  0.317200  0.652585\n",
       "11  0.927432  0.184947  0.093068  0.140016  0.867334\n",
       "12  0.142011  0.612859  0.300056  0.520717  0.429372\n",
       "13  0.844121  0.824084  0.248138  0.796163  0.234104\n",
       "14  0.654401  0.788771  0.961824  0.489300  0.043958\n",
       "15  0.870861  0.019651  0.696231  0.531542  0.217679\n",
       "16  0.405521  0.658597  0.268423  0.867861  0.354019\n",
       "17  0.760914  0.471003  0.445643  0.029507  0.983251\n",
       "18  0.984552  0.752644  0.000506  0.584284  0.062437\n",
       "19  0.723287  0.786570  0.370922  0.157771  0.983954"
      ]
     },
     "execution_count": 7,
     "metadata": {
      "tags": []
     },
     "output_type": "execute_result"
    }
   ],
   "source": [
    "# Create Test Objects\n",
    "\n",
    "pd.DataFrame(np.random.rand(20,5)) #\t5 columns and 20 rows of random floats\n"
   ]
  },
  {
   "cell_type": "code",
   "execution_count": 0,
   "metadata": {
    "colab": {},
    "colab_type": "code",
    "id": "IHsrl0janxyG",
    "outputId": "2b06cfe4-04c0-4761-adce-8caf862605f7"
   },
   "outputs": [
    {
     "data": {
      "text/plain": [
       "0    1\n",
       "1    2\n",
       "2    3\n",
       "3    4\n",
       "dtype: int64"
      ]
     },
     "execution_count": 11,
     "metadata": {
      "tags": []
     },
     "output_type": "execute_result"
    }
   ],
   "source": [
    "pd.Series([1,2,3,4]) #\tCreate a series from an iterable my_list\n"
   ]
  },
  {
   "cell_type": "code",
   "execution_count": 0,
   "metadata": {
    "colab": {},
    "colab_type": "code",
    "id": "ZejgaxMLnxyb",
    "outputId": "3c2e0791-9831-49fc-ca50-6c37f089c2ad"
   },
   "outputs": [
    {
     "ename": "NameError",
     "evalue": "name 'df' is not defined",
     "output_type": "error",
     "traceback": [
      "\u001b[0;31m---------------------------------------------------------------------------\u001b[0m",
      "\u001b[0;31mNameError\u001b[0m                                 Traceback (most recent call last)",
      "\u001b[0;32m<ipython-input-9-a738d30289bd>\u001b[0m in \u001b[0;36m<module>\u001b[0;34m()\u001b[0m\n\u001b[0;32m----> 1\u001b[0;31m \u001b[0mdf\u001b[0m\u001b[0;34m.\u001b[0m\u001b[0mindex\u001b[0m \u001b[0;34m=\u001b[0m \u001b[0mpd\u001b[0m\u001b[0;34m.\u001b[0m\u001b[0mdate_range\u001b[0m\u001b[0;34m(\u001b[0m\u001b[0;34m'1900/1/30'\u001b[0m\u001b[0;34m,\u001b[0m \u001b[0mperiods\u001b[0m\u001b[0;34m=\u001b[0m\u001b[0mdf\u001b[0m\u001b[0;34m.\u001b[0m\u001b[0mshape\u001b[0m\u001b[0;34m[\u001b[0m\u001b[0;36m0\u001b[0m\u001b[0;34m]\u001b[0m\u001b[0;34m)\u001b[0m  \u001b[0;31m#   Add a date index\u001b[0m\u001b[0;34m\u001b[0m\u001b[0m\n\u001b[0m",
      "\u001b[0;31mNameError\u001b[0m: name 'df' is not defined"
     ]
    }
   ],
   "source": [
    "df.index = pd.date_range('1900/1/30', periods=df.shape[0])  #\tAdd a date index"
   ]
  },
  {
   "cell_type": "code",
   "execution_count": 0,
   "metadata": {
    "colab": {},
    "colab_type": "code",
    "id": "b7EElx9wnxy8"
   },
   "outputs": [],
   "source": [
    "# Viewing/Inspecting Data\n",
    "# df.head(n)\tFirst n rows of the DataFrame\n",
    "# df.tail(n)\tLast n rows of the DataFrame\n",
    "# df.shape()\tNumber of rows and columns\n",
    "# df.info()\tIndex, Datatype and Memory information\n",
    "# df.describe()\tSummary statistics for numerical columns\n",
    "# s.value_counts(dropna=False)\tView unique values and counts\n",
    "# df.apply(pd.Series.value_counts)\tUnique values and counts for all columns"
   ]
  }
 ],
 "metadata": {
  "colab": {
   "name": "Pandas.ipynb",
   "provenance": [],
   "version": "0.3.2"
  },
  "kernelspec": {
   "display_name": "Python 3",
   "language": "python",
   "name": "python3"
  },
  "language_info": {
   "codemirror_mode": {
    "name": "ipython",
    "version": 3
   },
   "file_extension": ".py",
   "mimetype": "text/x-python",
   "name": "python",
   "nbconvert_exporter": "python",
   "pygments_lexer": "ipython3",
   "version": "3.7.3"
  }
 },
 "nbformat": 4,
 "nbformat_minor": 1
}
